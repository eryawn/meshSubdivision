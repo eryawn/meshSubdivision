{
 "cells": [
  {
   "cell_type": "markdown",
   "metadata": {},
   "source": [
    "# Neighborhood Computations"
   ]
  },
  {
   "cell_type": "code",
   "execution_count": null,
   "metadata": {},
   "outputs": [],
   "source": [
    "import numpy as np\n",
    "import igl\n",
    "import meshplot"
   ]
  },
  {
   "cell_type": "code",
   "execution_count": null,
   "metadata": {},
   "outputs": [],
   "source": [
    "bunny_v, bunny_f = igl.read_triangle_mesh(\"data/bunny.off\")\n",
    "cube_v, cube_f = igl.read_triangle_mesh(\"data/cube.obj\")\n",
    "sphere_v, sphere_f = igl.read_triangle_mesh(\"data/sphere.obj\")\n",
    "tube_v, tube_f = igl.read_triangle_mesh(\"data/bumpy.off\")"
   ]
  },
  {
   "cell_type": "code",
   "execution_count": null,
   "metadata": {},
   "outputs": [],
   "source": [
    "meshplot.offline()\n",
    "meshplot.plot(bunny_v, bunny_f, shading={\"wireframe\": True})"
   ]
  },
  {
   "cell_type": "code",
   "execution_count": null,
   "metadata": {},
   "outputs": [],
   "source": [
    "meshplot.plot(cube_v, cube_f, shading={\"wireframe\": True})"
   ]
  },
  {
   "cell_type": "code",
   "execution_count": null,
   "metadata": {},
   "outputs": [],
   "source": [
    "meshplot.plot(sphere_v, sphere_f, shading={\"wireframe\": True})"
   ]
  },
  {
   "cell_type": "markdown",
   "metadata": {},
   "source": [
    "## Vertex-to-Face Relations"
   ]
  },
  {
   "cell_type": "code",
   "execution_count": null,
   "metadata": {},
   "outputs": [],
   "source": [
    "def vertex_to_face(V, F):\n",
    "    (VF, NI) = igl.vertex_triangle_adjacency(F, np.size(V))\n",
    "    face = 0\n",
    "    vertex = 0\n",
    "    vertex_index = 0\n",
    "    while NI[vertex] < len(VF):\n",
    "        print('The vertex', vertex_index, 'is adjacent to the faces ', end='')\n",
    "        for j in range(NI[vertex + 1] - NI[vertex]):                        \n",
    "            print(VF[face], ', ' , end='')\n",
    "            face += 1\n",
    "        print()\n",
    "        vertex += 1\n",
    "        vertex_index += 1"
   ]
  },
  {
   "cell_type": "markdown",
   "metadata": {},
   "source": [
    "## Vertex-to-Vertex Relations"
   ]
  },
  {
   "cell_type": "code",
   "execution_count": null,
   "metadata": {},
   "outputs": [],
   "source": [
    "def vertex_to_vertex(F):\n",
    "    list = igl.adjacency_list(F)\n",
    "    for vertex in range(len(list)):\n",
    "        print('The vertex', vertex, 'is adjacent to the vertices ', end='')\n",
    "        print(list[vertex])"
   ]
  },
  {
   "cell_type": "markdown",
   "metadata": {},
   "source": [
    "## Visualizing the Neighborhood Relations"
   ]
  },
  {
   "cell_type": "markdown",
   "metadata": {},
   "source": [
    "This section displays the vertex-to-face relations of the bunny object."
   ]
  },
  {
   "cell_type": "code",
   "execution_count": null,
   "metadata": {},
   "outputs": [],
   "source": [
    "vertex_to_face(bunny_v, bunny_f)"
   ]
  },
  {
   "cell_type": "markdown",
   "metadata": {},
   "source": [
    "This section displays the vertex-to-vertex relations of the bunny object."
   ]
  },
  {
   "cell_type": "code",
   "execution_count": null,
   "metadata": {},
   "outputs": [],
   "source": [
    "vertex_to_vertex(bunny_f)"
   ]
  },
  {
   "cell_type": "markdown",
   "metadata": {},
   "source": [
    "## Shading\n",
    "\n",
    "Meshplot requires per vertex normals, so we need to \"explode\" the mesh.\n",
    "Below section is to define a mesh explosion and helper function."
   ]
  },
  {
   "cell_type": "code",
   "execution_count": null,
   "metadata": {},
   "outputs": [],
   "source": [
    "def preprocess(v, f, key, thres = 50):\n",
    "\n",
    "    if key == 2:\n",
    "        n = igl.per_vertex_normals(v, f)\n",
    "        return v, f, n    \n",
    "\n",
    "    f_new = np.zeros(f.shape, dtype = int)\n",
    "    v_new = np.zeros((f.shape[0] * 3, 3))\n",
    "    v_index = 0\n",
    "\n",
    "    for i in range(f.shape[0]):\n",
    "        new_face = [v_index, v_index + 1, v_index + 2]\n",
    "        f_new[i] = new_face\n",
    "        v_new[v_index] = v[f[i][0]]\n",
    "        v_new[v_index + 1] = v[f[i][1]]\n",
    "        v_new[v_index + 2] = v[f[i][2]]\n",
    "        v_index += 3\n",
    "\n",
    "    if key == 1:\n",
    "        n = igl.per_face_normals(v, f, np.array([0., 1., 0.]))\n",
    "        n_new = np.zeros(v_new.shape)\n",
    "        for i in range(f.shape[0]):\n",
    "            f_normal = n[i]\n",
    "            n_new[f_new[i][0]] = f_normal\n",
    "            n_new[f_new[i][1]] = f_normal\n",
    "            n_new[f_new[i][2]] = f_normal\n",
    "        return v_new, f_new, n_new\n",
    "    \n",
    "    if key == 3:\n",
    "        n = igl.per_corner_normals(v, f, thres)\n",
    "        return v_new, f_new, n"
   ]
  },
  {
   "cell_type": "markdown",
   "metadata": {},
   "source": [
    "### Flat Shading"
   ]
  },
  {
   "cell_type": "markdown",
   "metadata": {},
   "source": [
    "Sphere.\n",
    "For better visual effects of plotting, the default color is set in the meshplot function. Please comment on the line of code about color setting and pass it as argument of the meshplot function if you want to view the grayscale plotting. It applies to all following plots."
   ]
  },
  {
   "cell_type": "code",
   "execution_count": null,
   "metadata": {},
   "outputs": [],
   "source": [
    "v, f, n = preprocess(sphere_v, sphere_f, 1)\n",
    "#color = np.full(np.shape(n), 1)\n",
    "p = meshplot.plot(v, f, n = n, shading = {'flat': False, 'wireframe' : False})\n",
    "p.add_lines(v, v + 0.1 * n)"
   ]
  },
  {
   "cell_type": "markdown",
   "metadata": {},
   "source": [
    "Cube. Please note that the light source is directly incident to the front face of the cube, so rotate it around to see the shading effects. It applies to all following cube plots."
   ]
  },
  {
   "cell_type": "code",
   "execution_count": null,
   "metadata": {},
   "outputs": [],
   "source": [
    "v, f, n = preprocess(cube_v, cube_f, 1)\n",
    "#color = np.full(np.shape(n), 1)\n",
    "p = meshplot.plot(v, f, n = n, shading = {'flat': False, 'wireframe' : False})\n",
    "p.add_lines(v, v + 0.1 * n)"
   ]
  },
  {
   "cell_type": "markdown",
   "metadata": {},
   "source": [
    "### Per-vertex Shading"
   ]
  },
  {
   "cell_type": "markdown",
   "metadata": {},
   "source": [
    "Sphere."
   ]
  },
  {
   "cell_type": "code",
   "execution_count": null,
   "metadata": {},
   "outputs": [],
   "source": [
    "v, f, n = preprocess(sphere_v, sphere_f, 2)\n",
    "#color = np.full(np.shape(n), 1)\n",
    "p = meshplot.plot(v, f, n = n, shading = {'flat': False, 'wireframe' : False})\n",
    "p.add_lines(v, v + 0.1 * n)"
   ]
  },
  {
   "cell_type": "markdown",
   "metadata": {},
   "source": [
    "Cube."
   ]
  },
  {
   "cell_type": "code",
   "execution_count": null,
   "metadata": {},
   "outputs": [],
   "source": [
    "v, f, n = preprocess(cube_v, cube_f, 2)\n",
    "#color = np.full(np.shape(n), 1)\n",
    "p = meshplot.plot(v, f, n = n, shading = {'flat': False, 'wireframe' : False})\n",
    "p.add_lines(v, v + 0.1 * n)"
   ]
  },
  {
   "cell_type": "markdown",
   "metadata": {},
   "source": [
    "### Per-corner Shading\n",
    "The threshold argument of function per_corner_normals is set to 50 defautly. Please modify the value if you want to view different visual effects of per-corner shading."
   ]
  },
  {
   "cell_type": "markdown",
   "metadata": {},
   "source": [
    "Sphere. The smooth surface of the sphere could be clearly seen."
   ]
  },
  {
   "cell_type": "code",
   "execution_count": null,
   "metadata": {},
   "outputs": [],
   "source": [
    "v, f, n = preprocess(sphere_v, sphere_f, 3)\n",
    "#color = np.full(np.shape(n), 1)\n",
    "p = meshplot.plot(v, f, n = n, shading = {'flat': False, 'wireframe' : False})\n",
    "p.add_lines(v, v + 0.1 * n)"
   ]
  },
  {
   "cell_type": "markdown",
   "metadata": {},
   "source": [
    "## Connected Components\n",
    "For better visual effects of connected components, I pour different and unique colors to the connected components of an object. The colors are sampled randomly."
   ]
  },
  {
   "cell_type": "code",
   "execution_count": null,
   "metadata": {
    "scrolled": true
   },
   "outputs": [],
   "source": [
    "def connected_components(obj_address):\n",
    "    v, f = igl.read_triangle_mesh(obj_address)\n",
    "    com = igl.face_components(f)\n",
    "    color_index = []\n",
    "    for i in range(len(com)):\n",
    "        if com[i] not in color_index:\n",
    "            color_index.append(com[i])\n",
    "    color_list = np.random.rand(len(color_index), 3)\n",
    "    print('The number of connected components:')\n",
    "    print(len(color_index))   \n",
    "    size_list = np.zeros(len(color_index))\n",
    "    for i in range(com.shape[0]):\n",
    "        size_list[com[i]] += 1    \n",
    "    for i in range(size_list.shape[0]):\n",
    "        print('The size of component', i, 'is', size_list[i])    \n",
    "    color_mat = np.zeros(np.shape(f))\n",
    "    for i in range(np.shape(f)[0]):\n",
    "        color_mat[i] = color_list[com[i]]\n",
    "    meshplot.plot(v, f, c = color_mat)"
   ]
  },
  {
   "cell_type": "markdown",
   "metadata": {},
   "source": [
    "Car."
   ]
  },
  {
   "cell_type": "code",
   "execution_count": null,
   "metadata": {},
   "outputs": [],
   "source": [
    "connected_components('data/car.off')"
   ]
  },
  {
   "cell_type": "markdown",
   "metadata": {},
   "source": [
    "Teacup."
   ]
  },
  {
   "cell_type": "code",
   "execution_count": null,
   "metadata": {},
   "outputs": [],
   "source": [
    "connected_components('data/coffeecup.off')"
   ]
  },
  {
   "cell_type": "markdown",
   "metadata": {},
   "source": [
    "## A simple subdivision scheme"
   ]
  },
  {
   "cell_type": "code",
   "execution_count": null,
   "metadata": {},
   "outputs": [],
   "source": [
    "def subdivision(V, F):\n",
    "#     meshplot.plot(V, F, shading={'wireframe': True})\n",
    "#     F2 = np.zeros((F.shape[0] * 3, 3), dtype=int)\n",
    "#     idx_max_v = V.shape[0]\n",
    "#     for i in range(F.shape[0]):\n",
    "#         F2[i * 3]     = np.array([F[i][0], F[i][1], idx_max_v + i])\n",
    "#         F2[i * 3 + 1] = np.array([F[i][0], F[i][2], idx_max_v + i])\n",
    "#         F2[i * 3 + 2] = np.array([F[i][1], F[i][2], idx_max_v + i])\n",
    "\n",
    "    idx_max_v = len(V);\n",
    "    F2 = []\n",
    "    for i in range (len(F)):\n",
    "        for j in range(3):\n",
    "            temp = [F[i][j], F[i,(j+1)%3] , (idx_max_v + i)];\n",
    "            F2.append(temp);\n",
    "    F2 = np.array(F2)\n",
    "    M = igl.barycenter(V, F)\n",
    "    \n",
    "    v_to_v_list = igl.adjacency_list(F)\n",
    "    P = np.zeros(V.shape)\n",
    "    for i in range(P.shape[0]):\n",
    "        n = np.size(v_to_v_list[i])\n",
    "        a_n = (4 - 2 * np.cos(2 * np.pi / n)) / 9\n",
    "        sum = np.zeros(3)\n",
    "        for j in range(n):\n",
    "            sum += V[v_to_v_list[i][j]]\n",
    "        P[i] = (1 - a_n) * V[i] + a_n / n * sum\n",
    "    V1 = np.concatenate((P, M))\n",
    "    #meshplot.plot(V1, F2, shading={'wireframe': True})\n",
    "\n",
    "    TT = igl.triangle_triangle_adjacency(F)[0]\n",
    "    F1 = [];\n",
    "    for i in range (len(F)):\n",
    "        temp = [];\n",
    "        for j in range(3):\n",
    "            temp = [F[i][j], len(V) + TT[i][j] , (len(V) + i)];\n",
    "            F1.append(temp);\n",
    "    F1 = np.array(F1)    \n",
    "    \n",
    "    return V1,F1"
   ]
  },
  {
   "cell_type": "markdown",
   "metadata": {},
   "source": [
    "Bumpy. We could clearly observe that the tube object is not smooth when we load it to plot. But the subdivision method effectively smooths the mesh after processing.\n"
   ]
  },
  {
   "cell_type": "code",
   "execution_count": null,
   "metadata": {},
   "outputs": [],
   "source": [
    "meshplot.plot(tube_v, tube_f, shading={'wireframe': True})\n",
    "v1, f1 = subdivision(tube_v, tube_f)\n",
    "meshplot.plot(v1, f1, shading={'wireframe': True})"
   ]
  },
  {
   "cell_type": "markdown",
   "metadata": {},
   "source": [
    "Sphere. We could clearly observe that the sphere object is not smooth when we load it to plot. But the subdivision method effectively smooths the mesh after processing.\n"
   ]
  },
  {
   "cell_type": "code",
   "execution_count": null,
   "metadata": {},
   "outputs": [],
   "source": [
    "meshplot.plot(sphere_v, sphere_f, shading={'wireframe': True})\n",
    "v1, f1 = subdivision(sphere_v, sphere_f)\n",
    "meshplot.plot(v1, f1, shading={'wireframe': True})"
   ]
  }
 ],
 "metadata": {
  "kernelspec": {
   "display_name": "Python 3",
   "language": "python",
   "name": "python3"
  },
  "language_info": {
   "codemirror_mode": {
    "name": "ipython",
    "version": 3
   },
   "file_extension": ".py",
   "mimetype": "text/x-python",
   "name": "python",
   "nbconvert_exporter": "python",
   "pygments_lexer": "ipython3",
   "version": "3.9.2"
  }
 },
 "nbformat": 4,
 "nbformat_minor": 4
}
